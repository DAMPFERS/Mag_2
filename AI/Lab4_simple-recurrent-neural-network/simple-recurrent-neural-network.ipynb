{
 "cells": [
  {
   "cell_type": "markdown",
   "metadata": {},
   "source": [
    "# Making Your Model Learn Addition!\n",
    "## Task 1: Introduction\n",
    "\n",
    "Given the string \"54+7\", the model should return a prediction: \"61\"."
   ]
  },
  {
   "cell_type": "code",
   "execution_count": 2,
   "metadata": {},
   "outputs": [],
   "source": [
    "import numpy as np\n",
    "from tensorflow import keras\n",
    "from keras import models\n",
    "from keras.models import Sequential\n",
    "from tensorflow.keras.layers import TimeDistributed, Dense, Dropout, SimpleRNN, RepeatVector\n",
    "from tensorflow.keras.callbacks import EarlyStopping, LambdaCallback\n",
    "\n",
    "from termcolor import colored"
   ]
  },
  {
   "cell_type": "markdown",
   "metadata": {},
   "source": [
    "## Task 2: Generate Data\n",
    "___\n",
    "Note: If you are starting the notebook from this task, you can run cells from all previous tasks in the kernel by going to the top menu and then selecting Kernel > Restart and Run All\n",
    "___"
   ]
  },
  {
   "cell_type": "code",
   "execution_count": 3,
   "metadata": {
    "colab": {
     "base_uri": "https://localhost:8080/",
     "height": 34
    },
    "colab_type": "code",
    "id": "hP-OyQrivBNl",
    "outputId": "70a8ce77-3241-4ea9-dbc7-d9bebb3789f3"
   },
   "outputs": [],
   "source": [
    "all_chars = '0123456789+'"
   ]
  },
  {
   "cell_type": "code",
   "execution_count": 4,
   "metadata": {},
   "outputs": [
    {
     "name": "stdout",
     "output_type": "stream",
     "text": [
      "Number of features: 11\n"
     ]
    }
   ],
   "source": [
    "num_features = len(all_chars)\n",
    "\n",
    "char_to_index = dict((c, i) for i, c in enumerate(all_chars))\n",
    "index_to_char = dict((i, c) for i, c in enumerate(all_chars))\n",
    "\n",
    "print('Number of features:', num_features)"
   ]
  },
  {
   "cell_type": "code",
   "execution_count": 5,
   "metadata": {
    "colab": {},
    "colab_type": "code",
    "id": "L2b1Xg9hvBNr"
   },
   "outputs": [
    {
     "data": {
      "text/plain": [
       "('67+22', '89')"
      ]
     },
     "execution_count": 5,
     "metadata": {},
     "output_type": "execute_result"
    }
   ],
   "source": [
    "def generate_data():\n",
    "    first_num = np.random.randint(low=0,high=100)\n",
    "    second_num = np.random.randint(low=0,high=100)\n",
    "    example = str(first_num) + '+' + str(second_num)\n",
    "    label = str(first_num+second_num)\n",
    "    return example, label\n",
    "\n",
    "generate_data()"
   ]
  },
  {
   "cell_type": "markdown",
   "metadata": {},
   "source": [
    "## Task 3: Create the Model\n",
    "___\n",
    "Note: If you are starting the notebook from this task, you can run cells from all previous tasks in the kernel by going to the top menu and then selecting Kernel > Restart and Run All\n",
    "___\n",
    "Consider these two reviews:\n",
    "\n",
    "Review 1: This movie is not terrible at all.\n",
    "\n",
    "Review 2: This movie is pretty decent."
   ]
  },
  {
   "cell_type": "code",
   "execution_count": 6,
   "metadata": {
    "colab": {
     "base_uri": "https://localhost:8080/",
     "height": 377
    },
    "colab_type": "code",
    "id": "iZKl0LtdvBNy",
    "outputId": "34a3c344-5985-4e3b-e1ac-392c18739308"
   },
   "outputs": [
    {
     "name": "stdout",
     "output_type": "stream",
     "text": [
      "Model: \"sequential\"\n",
      "_________________________________________________________________\n",
      " Layer (type)                Output Shape              Param #   \n",
      "=================================================================\n",
      " simple_rnn (SimpleRNN)      (None, 128)               17920     \n",
      "                                                                 \n",
      " repeat_vector (RepeatVector  (None, 5, 128)           0         \n",
      " )                                                               \n",
      "                                                                 \n",
      " simple_rnn_1 (SimpleRNN)    (None, 5, 128)            32896     \n",
      "                                                                 \n",
      " time_distributed (TimeDistr  (None, 5, 11)            1419      \n",
      " ibuted)                                                         \n",
      "                                                                 \n",
      "=================================================================\n",
      "Total params: 52,235\n",
      "Trainable params: 52,235\n",
      "Non-trainable params: 0\n",
      "_________________________________________________________________\n"
     ]
    }
   ],
   "source": [
    "hidden_units = 128\n",
    "max_time_steps = 5\n",
    "\n",
    "model = Sequential([\n",
    "    SimpleRNN(hidden_units, input_shape=(None, num_features)),\n",
    "    RepeatVector(max_time_steps),\n",
    "    SimpleRNN(hidden_units, return_sequences=True),\n",
    "    TimeDistributed(Dense(num_features, activation='softmax'))\n",
    "])\n",
    "\n",
    "model.compile(loss='categorical_crossentropy', optimizer='adam', metrics=['accuracy'])\n",
    "model.summary()"
   ]
  },
  {
   "cell_type": "markdown",
   "metadata": {},
   "source": [
    "## Task 4: Vectorize and De-Vectorize Data\n",
    "___\n",
    "Note: If you are starting the notebook from this task, you can run cells from all previous tasks in the kernel by going to the top menu and then selecting Kernel > Restart and Run All\n",
    "___"
   ]
  },
  {
   "cell_type": "code",
   "execution_count": 7,
   "metadata": {
    "colab": {},
    "colab_type": "code",
    "id": "Ci29YaA6vBN1"
   },
   "outputs": [
    {
     "name": "stdout",
     "output_type": "stream",
     "text": [
      "Text Example and Label: 45+5 50\n",
      "Vectorized Example and Label Shapes: (5, 11) (5, 11)\n"
     ]
    }
   ],
   "source": [
    "def vectorize_example(example, label):\n",
    "    \n",
    "    x = np.zeros((max_time_steps, num_features))\n",
    "    y = np.zeros((max_time_steps, num_features))\n",
    "    \n",
    "    diff_x = max_time_steps - len(example)\n",
    "    diff_y = max_time_steps - len(label)\n",
    "    \n",
    "    for i, c in enumerate(example):\n",
    "        x[diff_x+i, char_to_index[c]] = 1\n",
    "    for i in range(diff_x):\n",
    "        x[i, char_to_index['0']] = 1\n",
    "    for i, c in enumerate(label):\n",
    "        y[diff_y+i, char_to_index[c]] = 1\n",
    "    for i in range(diff_y):\n",
    "        y[i, char_to_index['0']] = 1\n",
    "        \n",
    "    return x, y\n",
    "\n",
    "e, l = generate_data()\n",
    "print('Text Example and Label:', e, l)\n",
    "x, y = vectorize_example(e, l)\n",
    "print('Vectorized Example and Label Shapes:', x.shape, y.shape)"
   ]
  },
  {
   "cell_type": "code",
   "execution_count": 8,
   "metadata": {
    "colab": {},
    "colab_type": "code",
    "id": "_nARKq-bvBN9"
   },
   "outputs": [
    {
     "data": {
      "text/plain": [
       "'045+5'"
      ]
     },
     "execution_count": 8,
     "metadata": {},
     "output_type": "execute_result"
    }
   ],
   "source": [
    "def devectorize_example(example):\n",
    "    result = [index_to_char[np.argmax(vec)] for i, vec in enumerate(example)]\n",
    "    return ''.join(result)\n",
    "\n",
    "devectorize_example(x)"
   ]
  },
  {
   "cell_type": "code",
   "execution_count": 9,
   "metadata": {
    "colab": {
     "base_uri": "https://localhost:8080/",
     "height": 34
    },
    "colab_type": "code",
    "id": "KCGUxNwNvBOA",
    "outputId": "a721451a-7f7c-42be-bdf0-0c96381f2eb2"
   },
   "outputs": [
    {
     "data": {
      "text/plain": [
       "'00050'"
      ]
     },
     "execution_count": 9,
     "metadata": {},
     "output_type": "execute_result"
    }
   ],
   "source": [
    "devectorize_example(y)"
   ]
  },
  {
   "cell_type": "markdown",
   "metadata": {},
   "source": [
    "## Task 5: Create Dataset\n",
    "___\n",
    "Note: If you are starting the notebook from this task, you can run cells from all previous tasks in the kernel by going to the top menu and then selecting Kernel > Restart and Run All\n",
    "___"
   ]
  },
  {
   "cell_type": "code",
   "execution_count": 10,
   "metadata": {
    "colab": {
     "base_uri": "https://localhost:8080/",
     "height": 34
    },
    "colab_type": "code",
    "id": "T5rdrhiVvBOI",
    "outputId": "426b3722-78cf-494f-8bbf-1cdf7eab3113"
   },
   "outputs": [
    {
     "name": "stdout",
     "output_type": "stream",
     "text": [
      "(2000, 5, 11) (2000, 5, 11)\n"
     ]
    }
   ],
   "source": [
    "def create_dataset(num_examples=2000):\n",
    "\n",
    "    x_train = np.zeros((num_examples, max_time_steps, num_features))\n",
    "    y_train = np.zeros((num_examples, max_time_steps, num_features))\n",
    "\n",
    "    for i in range(num_examples):\n",
    "        e, l = generate_data()\n",
    "        x, y = vectorize_example(e, l)\n",
    "        x_train[i] = x\n",
    "        y_train[i] = y\n",
    "    \n",
    "    return x_train, y_train\n",
    "\n",
    "x_train, y_train = create_dataset()\n",
    "print(x_train.shape, y_train.shape)"
   ]
  },
  {
   "cell_type": "code",
   "execution_count": 11,
   "metadata": {
    "colab": {
     "base_uri": "https://localhost:8080/",
     "height": 34
    },
    "colab_type": "code",
    "id": "RRwiuwcQvBOL",
    "outputId": "07591064-5c57-4adb-ccf6-c226457d2263"
   },
   "outputs": [
    {
     "data": {
      "text/plain": [
       "'25+32'"
      ]
     },
     "execution_count": 11,
     "metadata": {},
     "output_type": "execute_result"
    }
   ],
   "source": [
    "devectorize_example(x_train[0])"
   ]
  },
  {
   "cell_type": "code",
   "execution_count": 12,
   "metadata": {
    "colab": {
     "base_uri": "https://localhost:8080/",
     "height": 34
    },
    "colab_type": "code",
    "id": "cRUvtd0IvBOO",
    "outputId": "d07ce279-06ba-44c4-de91-0ec4fb551877"
   },
   "outputs": [
    {
     "data": {
      "text/plain": [
       "'00057'"
      ]
     },
     "execution_count": 12,
     "metadata": {},
     "output_type": "execute_result"
    }
   ],
   "source": [
    "devectorize_example(y_train[0])"
   ]
  },
  {
   "cell_type": "markdown",
   "metadata": {},
   "source": [
    "## Task 6: Training the Model\n",
    "___\n",
    "Note: If you are starting the notebook from this task, you can run cells from all previous tasks in the kernel by going to the top menu and then selecting Kernel > Restart and Run All\n",
    "___"
   ]
  },
  {
   "cell_type": "code",
   "execution_count": 15,
   "metadata": {
    "colab": {
     "base_uri": "https://localhost:8080/",
     "height": 2686
    },
    "colab_type": "code",
    "id": "S8HWRdiOvBOS",
    "outputId": "2365b11f-30e8-48cc-e940-4d3267771fbe"
   },
   "outputs": [
    {
     "data": {
      "text/plain": [
       "<keras.callbacks.History at 0x1fec4670>"
      ]
     },
     "execution_count": 15,
     "metadata": {},
     "output_type": "execute_result"
    }
   ],
   "source": [
    "l_cab = LambdaCallback(\n",
    "    on_epoch_end = lambda e, l: print('{:.2f}'.format(l['val_acc']), end=' _ ')\n",
    ")\n",
    "\n",
    "es_cb = EarlyStopping(monitor='val_loss', patience=10)\n",
    "\n",
    "model.fit(\n",
    "    x_train,\n",
    "    y_train,\n",
    "    epochs = 500,\n",
    "    batch_size = 256,\n",
    "    validation_split = .2,\n",
    "    verbose = False,\n",
    "#    callbacks=[l_cab, es_cb]\n",
    ")"
   ]
  },
  {
   "cell_type": "code",
   "execution_count": 18,
   "metadata": {
    "colab": {
     "base_uri": "https://localhost:8080/",
     "height": 187
    },
    "colab_type": "code",
    "id": "tlNtu_9ZvBOY",
    "outputId": "82198555-f0e8-4a7a-9125-cc61cf4f4a26"
   },
   "outputs": [
    {
     "name": "stdout",
     "output_type": "stream",
     "text": [
      "2/2 [==============================] - 0s 10ms/step\n",
      "\u001b[31mInput: 96+51 Out: 00147 Pred: 00157\u001b[0m\n",
      "\u001b[32mInput: 040+8 Out: 00048 Pred: 00048\u001b[0m\n",
      "\u001b[32mInput: 39+89 Out: 00128 Pred: 00128\u001b[0m\n",
      "\u001b[32mInput: 54+72 Out: 00126 Pred: 00126\u001b[0m\n",
      "\u001b[32mInput: 36+91 Out: 00127 Pred: 00127\u001b[0m\n",
      "\u001b[31mInput: 00+93 Out: 00093 Pred: 00094\u001b[0m\n",
      "\u001b[32mInput: 68+47 Out: 00115 Pred: 00115\u001b[0m\n",
      "\u001b[32mInput: 70+82 Out: 00152 Pred: 00152\u001b[0m\n",
      "\u001b[32mInput: 20+21 Out: 00041 Pred: 00041\u001b[0m\n",
      "\u001b[32mInput: 77+19 Out: 00096 Pred: 00096\u001b[0m\n",
      "\u001b[32mInput: 90+20 Out: 00110 Pred: 00110\u001b[0m\n",
      "\u001b[32mInput: 056+2 Out: 00058 Pred: 00058\u001b[0m\n",
      "\u001b[32mInput: 90+68 Out: 00158 Pred: 00158\u001b[0m\n",
      "\u001b[32mInput: 94+81 Out: 00175 Pred: 00175\u001b[0m\n",
      "\u001b[32mInput: 96+99 Out: 00195 Pred: 00195\u001b[0m\n",
      "\u001b[32mInput: 30+70 Out: 00100 Pred: 00100\u001b[0m\n",
      "\u001b[32mInput: 06+81 Out: 00087 Pred: 00087\u001b[0m\n",
      "\u001b[32mInput: 42+43 Out: 00085 Pred: 00085\u001b[0m\n",
      "\u001b[32mInput: 63+33 Out: 00096 Pred: 00096\u001b[0m\n",
      "\u001b[32mInput: 94+88 Out: 00182 Pred: 00182\u001b[0m\n",
      "\u001b[32mInput: 76+78 Out: 00154 Pred: 00154\u001b[0m\n",
      "\u001b[32mInput: 91+66 Out: 00157 Pred: 00157\u001b[0m\n",
      "\u001b[32mInput: 99+81 Out: 00180 Pred: 00180\u001b[0m\n",
      "\u001b[32mInput: 85+54 Out: 00139 Pred: 00139\u001b[0m\n",
      "\u001b[31mInput: 023+2 Out: 00025 Pred: 00024\u001b[0m\n",
      "\u001b[31mInput: 061+1 Out: 00062 Pred: 00065\u001b[0m\n",
      "\u001b[32mInput: 24+87 Out: 00111 Pred: 00111\u001b[0m\n",
      "\u001b[32mInput: 93+41 Out: 00134 Pred: 00134\u001b[0m\n",
      "\u001b[32mInput: 76+23 Out: 00099 Pred: 00099\u001b[0m\n",
      "\u001b[31mInput: 97+62 Out: 00159 Pred: 00169\u001b[0m\n",
      "\u001b[32mInput: 084+2 Out: 00086 Pred: 00086\u001b[0m\n",
      "\u001b[32mInput: 64+40 Out: 00104 Pred: 00104\u001b[0m\n",
      "\u001b[31mInput: 55+30 Out: 00085 Pred: 00084\u001b[0m\n",
      "\u001b[32mInput: 61+60 Out: 00121 Pred: 00121\u001b[0m\n",
      "\u001b[32mInput: 66+52 Out: 00118 Pred: 00118\u001b[0m\n",
      "\u001b[32mInput: 84+74 Out: 00158 Pred: 00158\u001b[0m\n",
      "\u001b[31mInput: 059+9 Out: 00068 Pred: 00078\u001b[0m\n",
      "\u001b[31mInput: 48+15 Out: 00063 Pred: 00062\u001b[0m\n",
      "\u001b[31mInput: 078+9 Out: 00087 Pred: 00096\u001b[0m\n",
      "\u001b[32mInput: 61+31 Out: 00092 Pred: 00092\u001b[0m\n",
      "\u001b[32mInput: 61+81 Out: 00142 Pred: 00142\u001b[0m\n",
      "\u001b[32mInput: 78+49 Out: 00127 Pred: 00127\u001b[0m\n",
      "\u001b[32mInput: 84+49 Out: 00133 Pred: 00133\u001b[0m\n",
      "\u001b[31mInput: 47+34 Out: 00081 Pred: 00080\u001b[0m\n",
      "\u001b[32mInput: 77+79 Out: 00156 Pred: 00156\u001b[0m\n",
      "\u001b[32mInput: 72+98 Out: 00170 Pred: 00170\u001b[0m\n",
      "\u001b[32mInput: 96+89 Out: 00185 Pred: 00185\u001b[0m\n",
      "\u001b[32mInput: 56+71 Out: 00127 Pred: 00127\u001b[0m\n",
      "\u001b[32mInput: 63+11 Out: 00074 Pred: 00074\u001b[0m\n",
      "\u001b[32mInput: 96+38 Out: 00134 Pred: 00134\u001b[0m\n"
     ]
    }
   ],
   "source": [
    "x_test, y_test = create_dataset(50)\n",
    "\n",
    "preds = model.predict(x_test)\n",
    "\n",
    "for i, pred in enumerate(preds):\n",
    "    y = devectorize_example(y_test[i])\n",
    "    y_hat = devectorize_example(pred)\n",
    "    col = 'green'\n",
    "    if y != y_hat:\n",
    "        col = 'red'\n",
    "        \n",
    "    out = 'Input: ' + devectorize_example(x_test[i]) + ' Out: ' + y  + ' Pred: ' + y_hat\n",
    "    print(colored(out, col))\n",
    "    "
   ]
  },
  {
   "cell_type": "code",
   "execution_count": null,
   "metadata": {},
   "outputs": [],
   "source": []
  },
  {
   "cell_type": "code",
   "execution_count": null,
   "metadata": {},
   "outputs": [],
   "source": []
  },
  {
   "cell_type": "code",
   "execution_count": null,
   "metadata": {},
   "outputs": [],
   "source": []
  }
 ],
 "metadata": {
  "accelerator": "GPU",
  "colab": {
   "collapsed_sections": [],
   "name": "addition_simpleRNN.ipynb",
   "provenance": [],
   "version": "0.3.2"
  },
  "kernelspec": {
   "display_name": "Python 3 (ipykernel)",
   "language": "python",
   "name": "python3"
  },
  "language_info": {
   "codemirror_mode": {
    "name": "ipython",
    "version": 3
   },
   "file_extension": ".py",
   "mimetype": "text/x-python",
   "name": "python",
   "nbconvert_exporter": "python",
   "pygments_lexer": "ipython3",
   "version": "3.8.10"
  }
 },
 "nbformat": 4,
 "nbformat_minor": 4
}
